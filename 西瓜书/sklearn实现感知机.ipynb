{
 "cells": [
  {
   "cell_type": "code",
   "execution_count": 2,
   "metadata": {},
   "outputs": [],
   "source": [
    "import numpy as np"
   ]
  },
  {
   "cell_type": "code",
   "execution_count": null,
   "metadata": {},
   "outputs": [],
   "source": [
    "class Perceptron(object):\n",
    "    def init(self,learn_rate=0.01,n_ter=10):\n",
    "        self.learn_rate=learn_rate\n",
    "        self.n_ter=n_ter\n",
    "        \n",
    "        \n",
    "    \"\"\"\n",
    "    x:训练数据x，shape=【n，simpleFiles】\n",
    "    y：训练标签y，shape=【n，】\n",
    "    \"\"\"\n",
    "    def fit(self,x,y):\n",
    "        self.weight=np.zeros(1+x.shape[1])\n",
    "        self.errors=[]\n",
    "        \n",
    "        for i in range(self.n_ter):\n",
    "            error=0\n",
    "            for xi,target in zip(x,y):\n",
    "                update"
   ]
  }
 ],
 "metadata": {
  "kernelspec": {
   "display_name": "Python 3",
   "language": "python",
   "name": "python3"
  },
  "language_info": {
   "codemirror_mode": {
    "name": "ipython",
    "version": 3
   },
   "file_extension": ".py",
   "mimetype": "text/x-python",
   "name": "python",
   "nbconvert_exporter": "python",
   "pygments_lexer": "ipython3",
   "version": "3.6.5"
  }
 },
 "nbformat": 4,
 "nbformat_minor": 2
}
